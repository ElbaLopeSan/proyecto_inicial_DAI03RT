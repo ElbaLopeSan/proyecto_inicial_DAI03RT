{
 "cells": [
  {
   "cell_type": "code",
   "execution_count": null,
   "id": "69072795-bab1-455c-95cc-ec5b8f24c7d5",
   "metadata": {},
   "outputs": [],
   "source": [
    "# STORYTELLING"
   ]
  },
  {
   "cell_type": "markdown",
   "id": "39bd1dd8-8a54-468c-80ef-d28dd70a989f",
   "metadata": {},
   "source": [
    "Motivación del Proyecto\n",
    "\n",
    "Se ha escogido la música como tema principal del proyecto.  Esto con el objetivo de entender mejor cómo se comportan las canciones más populares en distintas listas alrededor del mundo. Se han escogido 4 listas, las más importantes a nuestro parecer: Billboard Hot 100, Los 40 Principales, UK Top 100, Shazam Top 200. "
   ]
  },
  {
   "cell_type": "markdown",
   "id": "66386f4e-fc51-47b0-ad73-8efc5e538fe0",
   "metadata": {},
   "source": [
    "Alcance del Proyecto\n",
    "\n",
    "Realizar un proceso ETL completo sobre información musical:\n",
    "\n",
    "    • Extracción: se buscó documentación en la web acerca de la extracción de la API de Spofify (https://developer.spotify.com/documentation/web-api) y su repositorio (https://github.com/spotipy-dev/spotipy/blob/2.22.1/TUTORIAL.md). Se tuvo que buscar las claves de usuarios y peticiones de tokens para cargar toda la información en un json.\n",
    "Se definieron las columnas a extraer sobre las 4 playlists escogidas: \"track_name\", \"track_popularity\", \"duration_ms\", \"artist_name\", \"artist_genres\", \"artist_popularity\", \"feats\", \"explicit\", \"album\", \"type\", \"relase_date\", \"track_id\", \"artist_id\", \"list\". Todo se guardó en un DataFrame y se guardó en un archivo .CSV (\"top_charts.csv\").\n",
    "\n",
    "    • Transformación:\n",
    "Limpieza de nombres de canciones: se eliminaron partes como (feat. ...) o (with ...) de los nombres de canciones para estandarizar.\n",
    "Separación de géneros: se dividió la columna artist_genres (que tenía géneros separados por \"|\") en listas de géneros individuales. Se utilizó .explode() y se guardó en un nuevo DataFrame (df_exploded).\n",
    "Conversión de fecha: se convirtió la columna relase_date (fecha de lanzamiento) a formato de fecha (datetime), considerando diferentes formatos posibles.\n",
    "Transformación de texto: se pasaron los nombres de canciones (track_name) a minúsculas para evitar duplicados.\n",
    "Todo se guardó en un DataFrame y se guardó en un archivo .CSV (\"df_trans.csv \"). \n",
    "\n",
    "    • Carga: No aplica.\n",
    "    \n",
    "    • Visualización: análisis de información a través de gráficos."
   ]
  },
  {
   "cell_type": "markdown",
   "id": "67c3f756-df97-41ad-a42f-584e6b256493",
   "metadata": {},
   "source": [
    "Herramientas Usadas\n",
    "\n",
    "    • Lenguaje: Python\n",
    "    • Librerías principales:\n",
    "        ◦ requests, os, dotenv: para extracción vía API\n",
    "        ◦ pandas, numpy, json\n",
    "        ◦ matplotlib, seaborn\n",
    "    • Spotify API: fuente de datos"
   ]
  },
  {
   "cell_type": "markdown",
   "id": "3d3dd2cd-d5f5-40eb-b301-48f25d57c9ca",
   "metadata": {},
   "source": [
    "Desafíos y Resoluciones\n",
    "\n",
    "En la etapa etapa de \"Transformación\" \n",
    "el desafío fué el Formato inconsistente en fechas (relase_date)\n",
    "y la solución fué usar format='mixed' con pd.to_datetime"
   ]
  },
  {
   "cell_type": "markdown",
   "id": "47c79dd2-a84d-4b90-906d-ed8229dff405",
   "metadata": {},
   "source": [
    "Esquema del Proyecto\n",
    "\n",
    "1. Carga de credenciales desde .env\n",
    "2. Extracción de datos con funciones API (token, playlist, artista, canciones)\n",
    "3. Almacenamiento de datos en DataFrame\n",
    "4. Limpieza y transformación:\n",
    "   - Normalización de texto\n",
    "   - Extracción de feats\n",
    "   - División de géneros\n",
    "   - Conversión de fechas\n",
    "5. Exportación a CSV\n",
    "6. Visualización y análisis"
   ]
  },
  {
   "cell_type": "markdown",
   "id": "7676ce8c-4b98-47dc-9c05-64139cb77fff",
   "metadata": {},
   "source": [
    "Visualizaciones y Resultados\n",
    "\n",
    "- Gráfico 1 (plot.pie) muestra el % de las canciones por lista sobre el total.\n",
    "- Gráfico 2 (sns.barplot) muestra los 10 primeros artistas más populares sobre el total. \n",
    "- Gráfico 3 (sns.barplot) muestra la dispersión entre la popularidad del artista vs la popularidad de la canción.\n",
    "- Gráfico 4 (sns.boxplot) muestra la distribución de popularidad por lista. Se puede ver que UK top 100 y Billboard 100 contienen las canciones más populares.\n",
    "- Gráfico 5 (sns.violinplot) muestra la duración de canciones por lista. UK top 100 contiene las canciones con mayor duración, aunque el Shazam 200 tiene la canción más larga de la muestra. \n",
    "- Gráfico 6 (sns.barplot)\n",
    "- Gráfico 7 (sns.histplot) muestra la distribución de popularidad de los artistas. La distribución está cargada hacia la derecha por lo que la gran mayoría de los artistas tienen alta popularidad. \n",
    "- Gráfico 8 (sns.jointplot)\n",
    "- Gráfico 9 (sns.countplot) muestra el top 10 de géneros musicales con más canciones. \n",
    "- Gráfico 10 (sns.barplot) muestra la popularidad por género (top 5).\n",
    "- Gráfico 11 (plt.subplots) muestra la distribución de popularidad por artista por país. UK y EE.UU. están sesgada hacia la derecha por lo que tienen artistas más populares, mientras que España tiene 2 picos.\n",
    "- Gráfico 12 (plt.suptitle) muestra los géneros más representados por país. UK es house, EE.UU. es country, España flamenco pop y Shazam es EDM.\n",
    "- Gráfico 13 (sns.countplot) muestra las canciones más repetidas por país."
   ]
  }
 ],
 "metadata": {
  "kernelspec": {
   "display_name": "Python 3 (ipykernel)",
   "language": "python",
   "name": "python3"
  },
  "language_info": {
   "codemirror_mode": {
    "name": "ipython",
    "version": 3
   },
   "file_extension": ".py",
   "mimetype": "text/x-python",
   "name": "python",
   "nbconvert_exporter": "python",
   "pygments_lexer": "ipython3",
   "version": "3.11.7"
  }
 },
 "nbformat": 4,
 "nbformat_minor": 5
}
