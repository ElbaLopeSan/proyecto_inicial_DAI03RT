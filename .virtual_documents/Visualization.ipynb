# VISUALIZATION


import numpy as np
import pandas as pd

import matplotlib
import matplotlib.pyplot as plt
import seaborn as sns


print(f"numpy=={np.__version__}")
print(f"pandas=={pd.__version__}") , 
print(f"matplotlib=={matplotlib.__version__}")


df = pd.read_csv("df_trans.csv")


print(df["artist_genres"].value_counts().head(10))


# Canciones por lista
clase_n=df["list"].value_counts()

clase_n.plot.pie(y=df.index,
           shadow=True,
           startangle=90,
           autopct='%1.1f%%')
plt.title("G1:Canciones por lista.")
plt.axis('equal')
plt.tight_layout()
plt.show()


# Artistas más populares
top_artistas = df.groupby("artist_name")["artist_popularity"].mean().sort_values(ascending=False).head(10)
print(top_artistas)


plt.figure(figsize=(10, 6))
sns.barplot(x=top_artistas.values, y=top_artistas.index)
plt.title("G2:Artistas más populares")
plt.show()


# Popularidad del artista vs. Popularidad de la canción
sns.scatterplot(data=df, x="artist_popularity", y="track_popularity", hue="list", alpha=0.6)
plt.title("G3:Popularidad de Artista vs Canción")
plt.xlabel("Popularidad del Artista")
plt.ylabel("Popularidad de la Canción")
plt.grid(True)
plt.show()


# Distribución De Popularidad Por Lista


sns.boxplot(x='list', y='track_popularity', data=df)

plt.title("G4:Distribución de Popularidad por Lista")
plt.ylabel("Popularidad de la Canción")
plt.xlabel("Lista")

plt.show()


# Duración canciones por lista


# Pasar duración a minutos
df["duracion_min"] = df["duration_ms"] / 60000

plt.figure(figsize=(10, 6))
sns.violinplot(x="list", y="duracion_min", data=df)

plt.xlabel("Lista")
plt.ylabel("Duración (min)")
plt.title("G5:Distribución de duración por lista")
plt.grid(True)
plt.show()


# Portentajes Feata
df1=df.groupby(by='list').aggregate({'feats':'count','track_name':'count'})

plt.figure(figsize=(10, 6))
sns.barplot(x=df1.index, y=df1["feats"])
plt.title("G6:Porcentanjes Feats")


# Distribución De Popularidad De Artistas


sns.histplot(df["artist_popularity"], kde = True)
plt.title('G7:Distribución de Popularidad de Artistas')
plt.xlabel('Popularidad del Artista')
plt.ylabel('Frecuencia')

plt.show()


# JoinPlot Popularidad artista Vs Popularida cancion


sns.jointplot(x = "artist_popularity", y = "track_popularity", data = df)
plt.title("G8:Popularidad Artista VS Popularidad Canción")
plt.show()


# Canciones por género

plt.figure(figsize=(10, 6))
sns.countplot(x="artist_genres", data=df, order=df["artist_genres"].value_counts().index[:10])
plt.title("G9:Top 10 géneros musicales con más canciones")
plt.xlabel("Género")
plt.ylabel("Canciones")
plt.xticks(rotation=45)

plt.show()


# Generos más populares
# Cargar el CSV primero
df_exp = pd.read_csv("genres_exploded.csv")
print(df_exp.shape)
df_exp.head()

# Obtener los 5 géneros más frecuentes
greatest_g = df_exp["artist_genres"].value_counts().head(5)

# Filtrar solo esos géneros
df_top_genres = df_exp[df_exp["artist_genres"].isin(greatest_g.index)]

# Crear el gráfico
import seaborn as sns
import matplotlib.pyplot as plt

sns.barplot(data=df_top_genres, x="list", y="track_popularity", hue="artist_genres")
plt.title("G10:Popularidad por Género (Top 5)")
plt.xticks(rotation=45)
plt.tight_layout()
plt.show()



# Popularidad por artista por Pais
subset_40=df[df["list"].isin(["Los 40 Principales"])]
subset_BB=df[df["list"].isin(["Billboard Hot 100"])]
subset_Sz=df[df["list"].isin(["Shazam Top 200"])]
subset_UK=df[df["list"].isin(["UK Top 100"])]


fig, ax = plt.subplots(nrows = 2, ncols = 2, figsize = (10, 10))
plt.suptitle("Gráfico 11", fontsize=16, y=1.02)

plt.subplot(2,2,3)
sns.histplot(subset_40['artist_popularity'], color = "magenta", kde = True)
plt.axvline(x=subset_40['artist_popularity'].mean(), color='red')
plt.title("Distribución popularidad artista 40 principales")
plt.grid()

plt.subplot(2,2,4)
sns.histplot(subset_BB['artist_popularity'], color = "green", kde = True)
plt.axvline(x=subset_BB['artist_popularity'].mean(), color='red')
plt.title("Distribución popularidad artista Billboard")
plt.grid()

plt.subplot(2,2,1)
sns.histplot(subset_Sz['artist_popularity'], color = "orange", kde = True)
plt.axvline(x=subset_Sz['artist_popularity'].mean(), color='red')
plt.title("Distribución popularidad artista Shazam")
plt.grid()

plt.subplot(2,2,2)
sns.histplot(subset_UK['artist_popularity'], color = "blue", kde = True)
plt.axvline(x=subset_UK['artist_popularity'].mean(), color='red')
plt.title("Distribución popularidad artista UK")
plt.grid()

plt.show()


# Genero más representado por pais
genres_40=df_exp[df_exp["list"].isin(["Los 40 Principales"])]
genres_BB=df_exp[df_exp["list"].isin(["Billboard Hot 100"])]
genres_Sz=df_exp[df_exp["list"].isin(["Shazam Top 200"])]
genres_UK=df_exp[df_exp["list"].isin(["UK Top 100"])]


fig, ax = plt.subplots(nrows = 2, ncols = 2, figsize = (20, 20))
plt.suptitle("Gráfico 12", fontsize=16, y=1.02)

plt.subplot(2,2,3)
sns.countplot(data=genres_40, x="artist_genres",color="magenta", order=genres_40["artist_genres"].value_counts().index)
plt.xticks(rotation=90)
plt.title("Genero más representado por pais por los 40")

plt.subplot(2,2,4)
sns.countplot(data=genres_BB, x="artist_genres",color = "green", order=genres_BB["artist_genres"].value_counts().index)
plt.xticks(rotation=90)
plt.title("Genero más representado por pais por  Billboard")

plt.subplot(2,2,1)
sns.countplot(data=genres_Sz, x="artist_genres",color = "orange", order=genres_Sz["artist_genres"].value_counts().index)
plt.xticks(rotation=90)
plt.title("Genero más representado por pais  por Shazam") 

plt.subplot(2,2,2)
sns.countplot(data=genres_UK, x="artist_genres",color = "blue", order=genres_UK["artist_genres"].value_counts().index)
plt.xticks(rotation=90)
plt.title("Genero más representado por pais por UK")

plt.show()


# Canciones más repetidas entre las listas
plt.figure(figsize=(10, 6))
sns.countplot(x="track_name", data=df, order=df["track_name"].value_counts().index[:10])
plt.title("G13:Canciones mas repetidas entre las listas")
plt.xlabel("Track Name")
plt.xticks(rotation=90)



