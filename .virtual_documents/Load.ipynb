 # LOAD


import pandas as pd


df = pd.read_csv("df_trans.csv")
df_exploded = pd.read_csv("genres_exploded.csv")


df.to_csv("df_trans.csv", index=False, encoding='utf-8')
print("CSV exportado")
df_exploded.to_csv("genres_exploded.csv", index=False, encoding='utf-8')
print("CSV exportado")
