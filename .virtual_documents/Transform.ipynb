# TRANSFORM


# Importar pandas y numpy
import pandas as pd
import numpy as np


# Cargar el csv
df = pd.read_csv("top_charts.csv")
print(df.shape)
df.head()


# Cargar el csv
df = pd.read_csv("BillboardHot100.csv")
print(df.shape)
df.head()


# Ver los datos nulos
df.isnull().sum()


# Cambiar los nulos a género "desconocido"
for i in range(len(df)):
    if pd.isnull(df.loc[i, "artist_genres"]):
        df.loc[i, "artist_genres"] = "desconocido"


df.isnull().sum()


# Ver cuasntos hemos cambiado
df[df["artist_genres"] == "desconocido"]


df["relase_date"] = pd.to_datetime(df["relase_date"], format='mixed')


# Ver cuasntos hemos cambiado
df[df["artist_genres"] == "desconocido"]


!pip install emoji


import emoji


def reemplazar_emoticones(texto):
    if isinstance(texto, str):
        return emoji.demojize(texto)
    return texto


def limpiar_emojis(df):
    df_limpio = df.copy()
    for col in df_limpio.select_dtypes(include=['object']):
        df_limpio[col] = df_limpio[col].map(reemplazar_emoticones)
    return df_limpio


df_limpio = limpiar_emojis(df)

print(df_limpio)


# CAMBIAMOS MILISEGUNDOS A MINUTOS Y SEGUNDOS


# Creamos lista vacia
duracion = []

for duracion_en_milisegundos in df["duration_ms"]:
    minutos = duracion_en_milisegundos // 60000  #1min = 60000 ms
    segundos = (duracion_en_milisegundos % 60000) // 1000  
    tiempo_cambiado = str(minutos) + ":" + str(segundos).zfill(2)  
    duracion.append(tiempo_cambiado)


df["duracion_mins_segs"] = duracion


print(df[["duration_ms", "duracion_mins_segs"]].head())


# Cambiar fechas


# Mirar que tipo tienen
print(df["relase_date"].head())


# Cambiar a datetime64
df["relase_date"] = pd.to_datetime(df["relase_date"])


# Vemos los cambios
print(df["relase_date"].dtypes)
print(df["relase_date"].head())


# Cambiar los | por comas en los feats


df["track_name"]=df["track_name"].map(lambda x : x.lower())
genres=[]
for genre in df['artist_genres']:
    genres.append(str(genre).split("|"))

df['artist_genres'] = genres



df['feats']=df['feats'].str.replace("|",", ")


print(df.head())


# CAMBIAMOS LOS NOMBRES


p=['(with','(feat']
for i in p:
    for x in range(len(df)):
        cancion=df.loc[x,'track_name']
        if i in cancion:
            df.loc[x,'track_name']=str(cancion).split('(')[0]



