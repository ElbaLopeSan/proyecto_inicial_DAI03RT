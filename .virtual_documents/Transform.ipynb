# TRANSFORM


# Importar pandas y numpy
import pandas as pd
import numpy as np


# Cargar el csv
df = pd.read_csv("top_charts.csv")
print(df.shape)
df.head()


# CAMBIAMOS MILISEGUNDOS A MINUTOS Y SEGUNDOS


df["relase_date"] = pd.to_datetime(df["relase_date"], format='mixed')


# Creamos lista vacia
duracion = []

for duracion_en_milisegundos in df["duration_ms"]:
    minutos = duracion_en_milisegundos // 60000  #1min = 60000 ms
    segundos = (duracion_en_milisegundos % 60000) // 1000  
    tiempo_cambiado = str(minutos) + ":" + str(segundos).zfill(2)  
    duracion.append(tiempo_cambiado)


df["duracion_mins_segs"] = duracion


print(df[["duration_ms", "duracion_mins_segs"]].head())


# Cambiar fechas


# Mirar que tipo tienen
print(df["relase_date"].head())


# Cambiar a datetime64
df["relase_date"] = pd.to_datetime(df["relase_date"])


# Vemos los cambios
print(df["relase_date"].dtypes)
print(df["relase_date"].head())


# Cambiar los | por comas en los feats


df["track_name"]=df["track_name"].map(lambda x : x.lower())
df['artist_genres'] = df['artist_genres'].map(lambda x: x.split("|") if isinstance(x, str) else x)


df['feats']=df['feats'].str.replace("|",", ")


print(df.head())


# CAMBIAMOS LOS NOMBRES


p=['(with','(feat']
for i in p:
    for x in range(len(df)):
        cancion=df.loc[x,'track_name']
        if i in cancion:
            df.loc[x,'track_name']=str(cancion).split('(')[0]


df_exploded=df.explode('artist_genres')
df_exploded


# Guardar DataFrame
df.to_csv("df_trans.csv", index=False, encoding='utf-8')
print("CSV exportado")
df_exploded.to_csv("genres_exploded.csv", index=False, encoding='utf-8')
print("CSV exportado")



