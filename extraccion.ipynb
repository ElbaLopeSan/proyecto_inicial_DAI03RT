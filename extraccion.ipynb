{
 "cells": [
  {
   "cell_type": "code",
   "execution_count": 1,
   "metadata": {},
   "outputs": [],
   "source": [
    "%load_ext autoreload\n",
    "%autoreload 2"
   ]
  },
  {
   "cell_type": "code",
   "execution_count": 2,
   "metadata": {},
   "outputs": [],
   "source": [
    "import base64\n",
    "from requests import post,get\n",
    "import json\n",
    "import numpy as np\n",
    "import pandas as pd\n",
    "import utils\n",
    "utils.check_credentials()"
   ]
  },
  {
   "cell_type": "code",
   "execution_count": 17,
   "metadata": {},
   "outputs": [],
   "source": [
    "lista_paises={'Los 40 Principales':\"6hN982OqftxyShJ28FcAIc\",'UK Top 100':\"2JyhlK34xSSXR4OQ3WflEq\",'Billboard Hot 100':\"6UeSakyzhiEt4NB3UAd6NQ\",'Shazam Top 200':'1YvHZR6lwysBB6UNUa800r'}"
   ]
  },
  {
   "cell_type": "code",
   "execution_count": 18,
   "metadata": {},
   "outputs": [
    {
     "name": "stdout",
     "output_type": "stream",
     "text": [
      "¡Token obtenido exitosamente!\n",
      "Token (primeros 20 caracteres): BQACL-BzS4okhylAPIjT...\n"
     ]
    }
   ],
   "source": [
    "token = utils.get_token()\n",
    "print(\"¡Token obtenido exitosamente!\")\n",
    "print(f\"Token (primeros 20 caracteres): {token[:20]}...\")"
   ]
  },
  {
   "cell_type": "code",
   "execution_count": 23,
   "metadata": {},
   "outputs": [],
   "source": [
    "columns = [\"top\", \"track_name\", \"track_popularity\", \"duration_ms\", \"artist_name\", \n",
    "           \"artist_genres\", \"artist_popularity\", \"feats\", \"explicit\", \"album\", \n",
    "           \"type\", \"relase_date\", \"track_id\", \"artist_id\", \"list\"]\n",
    "df_playlist = pd.DataFrame(columns=columns)"
   ]
  },
  {
   "cell_type": "code",
   "execution_count": 24,
   "metadata": {},
   "outputs": [],
   "source": [
    "jsons = []\n",
    "for playlist_name, playlist_id in lista_paises.items():\n",
    "    playlist_json = utils.get_playlist(token, playlist_id)\n",
    "    playlist_json['playlist name']=playlist_name\n",
    "    jsons.append(playlist_json)"
   ]
  },
  {
   "cell_type": "code",
   "execution_count": 25,
   "metadata": {},
   "outputs": [],
   "source": [
    "for json in jsons:\n",
    "    current_playlist_name=json['playlist name']\n",
    "    track_info = json[\"tracks\"][\"items\"]\n",
    "    playlist_data = []\n",
    "    for i in range(len(json[\"tracks\"][\"items\"])):\n",
    "        feats = []\n",
    "        data = {\n",
    "            \"top\": i+1,\n",
    "            \"track_name\": track_info[i][\"track\"][\"name\"],\n",
    "            \"track_popularity\": track_info[i][\"track\"][\"popularity\"],\n",
    "            \"artist_name\": track_info[i][\"track\"][\"artists\"][0][\"name\"],\n",
    "            \"artist_genres\": \"\",\n",
    "            \"duration_ms\": track_info[i][\"track\"][\"duration_ms\"],\n",
    "            \"artist_popularity\": \"\",\n",
    "            \"feats\": \"\",\n",
    "            \"explicit\": track_info[i][\"track\"][\"explicit\"],\n",
    "            \"album\": track_info[i][\"track\"][\"album\"][\"name\"],\n",
    "            \"type\": track_info[i][\"track\"][\"album\"][\"album_type\"],\n",
    "            \"relase_date\": track_info[i][\"track\"][\"album\"][\"release_date\"],\n",
    "            \"track_id\": track_info[i][\"track\"][\"id\"],\n",
    "            \"artist_id\": track_info[i][\"track\"][\"artists\"][0][\"id\"],\n",
    "            \"list\": current_playlist_name\n",
    "            }\n",
    "\n",
    "        artist_info = utils.get_artist(token, data[\"artist_id\"])\n",
    "        data[\"artist_popularity\"] = artist_info[\"popularity\"]\n",
    "\n",
    "        if len(artist_info[\"genres\"]) == 1:\n",
    "            data[\"artist_genres\"] = artist_info[\"genres\"][0]\n",
    "        elif len(artist_info[\"genres\"]) > 1:\n",
    "            generes = artist_info[\"genres\"]\n",
    "            data[\"artist_genres\"] = \"|\".join(generes)\n",
    "        else:\n",
    "            data[\"artist_genres\"] = np.nan\n",
    "\n",
    "        if len(track_info[i][\"track\"][\"artists\"]) > 1:\n",
    "            for j in range(len(track_info[i][\"track\"][\"artists\"])-1):\n",
    "                feats.append(track_info[i][\"track\"][\"artists\"][j+1][\"name\"])\n",
    "                data[\"feats\"] = \"|\".join(feats)\n",
    "        else:\n",
    "            data[\"feats\"] = np.nan\n",
    "        feats = []\n",
    "\n",
    "        playlist_data.append(data)\n",
    "\n",
    "        \n",
    "    # CONCAT\n",
    "    df_temp = pd.DataFrame(playlist_data)\n",
    "        \n",
    "    df_playlist = pd.concat([df_playlist, df_temp], ignore_index=True)"
   ]
  },
  {
   "cell_type": "code",
   "execution_count": 26,
   "metadata": {},
   "outputs": [
    {
     "name": "stdout",
     "output_type": "stream",
     "text": [
      "CSV exportado\n"
     ]
    }
   ],
   "source": [
    "df_playlist.to_csv(\"top_charts.csv\", index=False, encoding='utf-8')\n",
    "print(\"CSV exportado\")"
   ]
  }
 ],
 "metadata": {
  "kernelspec": {
   "display_name": "requests",
   "language": "python",
   "name": "python3"
  },
  "language_info": {
   "codemirror_mode": {
    "name": "ipython",
    "version": 3
   },
   "file_extension": ".py",
   "mimetype": "text/x-python",
   "name": "python",
   "nbconvert_exporter": "python",
   "pygments_lexer": "ipython3",
   "version": "3.9.23"
  }
 },
 "nbformat": 4,
 "nbformat_minor": 2
}
