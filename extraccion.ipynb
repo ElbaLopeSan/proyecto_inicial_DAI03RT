{
 "cells": [
  {
   "cell_type": "code",
   "execution_count": 1,
   "metadata": {},
   "outputs": [],
   "source": [
    "# EXTRACCION"
   ]
  },
  {
   "cell_type": "code",
   "execution_count": 2,
   "metadata": {},
   "outputs": [
    {
     "name": "stdout",
     "output_type": "stream",
     "text": [
      "Requirement already satisfied: spotipy in /home/elba/anaconda3/lib/python3.11/site-packages (2.25.1)\n",
      "Requirement already satisfied: python-dotenv in /home/elba/anaconda3/lib/python3.11/site-packages (0.21.0)\n",
      "Requirement already satisfied: redis>=3.5.3 in /home/elba/anaconda3/lib/python3.11/site-packages (from spotipy) (6.2.0)\n",
      "Requirement already satisfied: requests>=2.25.0 in /home/elba/anaconda3/lib/python3.11/site-packages (from spotipy) (2.31.0)\n",
      "Requirement already satisfied: urllib3>=1.26.0 in /home/elba/anaconda3/lib/python3.11/site-packages (from spotipy) (2.0.7)\n",
      "Requirement already satisfied: charset-normalizer<4,>=2 in /home/elba/anaconda3/lib/python3.11/site-packages (from requests>=2.25.0->spotipy) (2.0.4)\n",
      "Requirement already satisfied: idna<4,>=2.5 in /home/elba/anaconda3/lib/python3.11/site-packages (from requests>=2.25.0->spotipy) (3.4)\n",
      "Requirement already satisfied: certifi>=2017.4.17 in /home/elba/anaconda3/lib/python3.11/site-packages (from requests>=2.25.0->spotipy) (2025.6.15)\n"
     ]
    }
   ],
   "source": [
    "!pip install spotipy python-dotenv\n",
    "import base64\n",
    "from requests import post,get\n",
    "import json\n",
    "import numpy as np\n",
    "import pandas as pd"
   ]
  },
  {
   "cell_type": "code",
   "execution_count": 3,
   "metadata": {},
   "outputs": [],
   "source": [
    "# Obtener las credenciales del archivo .env\n",
    "CLIENT_ID='540ba0d5c2564cdeb246ace0d1ada7cf'\n",
    "CLIENT_SECRET='dcad0c99f6304377b3980b8a811ffe9e'\n",
    "\n",
    "# Verificar que las variables se cargaron correctamente\n",
    "if not CLIENT_ID or not CLIENT_SECRET:\n",
    "    raise ValueError(\"CLIENT_ID y CLIENT_SECRET deben estar configurados en el archivo .env\")\n",
    "\n",
    "def get_token():\n",
    "    auth_string = CLIENT_ID + \":\" + CLIENT_SECRET\n",
    "    auth_bytes = auth_string.encode(\"utf-8\")\n",
    "    auth_base64 = str(base64.b64encode(auth_bytes), \"utf-8\")\n",
    "    url = \"https://accounts.spotify.com/api/token\"\n",
    "    headers = {\n",
    "        \"Authorization\": \"Basic \" + auth_base64,\n",
    "        \"Content-Type\": \"application/x-www-form-urlencoded\"\n",
    "    }\n",
    "    data = {\"grant_type\": \"client_credentials\"}\n",
    "    result = post(url, headers=headers, data=data)\n",
    "    json_result = json.loads(result.content)\n",
    "    token = json_result\n",
    "    return token[\"access_token\"]\n",
    "\n",
    "def get_auth_header(token):\n",
    "    return {\"Authorization\": \"Bearer \" + token}\n",
    "\n",
    "def search_for_playlist(token, playlist_name):\n",
    "    url = \"https://api.spotify.com/v1/search\"\n",
    "    headers = get_auth_header(token)\n",
    "    query = f\"?q={playlist_name}&type=playlist&limit=1\"\n",
    "    query_url = url + query\n",
    "    result = get(query_url, headers=headers)\n",
    "    json_result = result.json()\n",
    "    return json_result\n",
    "\n",
    "def get_playlist(token, playlist_id):\n",
    "    url = f\"https://api.spotify.com/v1/playlists/{playlist_id}\"\n",
    "    headers = get_auth_header(token)\n",
    "    result = get(url, headers=headers)\n",
    "    json_result = result.json()\n",
    "    return json_result\n",
    "\n",
    "def get_artist(token, artist_id):\n",
    "    url = f\"https://api.spotify.com/v1/artists/{artist_id}\"\n",
    "    headers = get_auth_header(token)\n",
    "    result = get(url, headers=headers)\n",
    "    json_result = result.json()\n",
    "    return json_result\n",
    "\n",
    "def get_features(token, songs_id):\n",
    "    url = f\"https://api.spotify.com/v1/audio-features?ids={songs_id}\"\n",
    "    headers = get_auth_header(token)\n",
    "    result = get(url, headers=headers)\n",
    "    json_result = result.json()\n",
    "    return json_result"
   ]
  },
  {
   "cell_type": "code",
   "execution_count": 4,
   "metadata": {},
   "outputs": [],
   "source": [
    "lista_paises={'Los 40 Principales':\"6hN982OqftxyShJ28FcAIc\",'UK Top 100':\"2JyhlK34xSSXR4OQ3WflEq\",'Billboard Hot 100':\"6UeSakyzhiEt4NB3UAd6NQ\",'Shazam Top 200':'1YvHZR6lwysBB6UNUa800r'}"
   ]
  },
  {
   "cell_type": "code",
   "execution_count": 5,
   "metadata": {},
   "outputs": [
    {
     "name": "stdout",
     "output_type": "stream",
     "text": [
      "¡Token obtenido exitosamente!\n",
      "Token (primeros 20 caracteres): BQCEn0Ru-ESHOOYgGlCu...\n"
     ]
    }
   ],
   "source": [
    "token = get_token()\n",
    "print(\"¡Token obtenido exitosamente!\")\n",
    "print(f\"Token (primeros 20 caracteres): {token[:20]}...\")"
   ]
  },
  {
   "cell_type": "code",
   "execution_count": 6,
   "metadata": {},
   "outputs": [],
   "source": [
    "columns = [\"top\", \"track_name\", \"track_popularity\", \"duration_ms\", \"artist_name\", \n",
    "           \"artist_genres\", \"artist_popularity\", \"feats\", \"explicit\", \"album\", \n",
    "           \"type\", \"relase_date\", \"track_id\", \"artist_id\", \"list\"]\n",
    "df_playlist = pd.DataFrame(columns=columns)"
   ]
  },
  {
   "cell_type": "code",
   "execution_count": 7,
   "metadata": {},
   "outputs": [],
   "source": [
    "jsons = []\n",
    "for playlist_name, playlist_id in lista_paises.items():\n",
    "    playlist_json = get_playlist(token, playlist_id)\n",
    "    playlist_json['playlist name']=playlist_name\n",
    "    jsons.append(playlist_json)"
   ]
  },
  {
   "cell_type": "code",
   "execution_count": 8,
   "metadata": {},
   "outputs": [],
   "source": [
    "for json in jsons:\n",
    "    current_playlist_name=json['playlist name']\n",
    "    track_info = json[\"tracks\"][\"items\"]\n",
    "    playlist_data = []\n",
    "    for i in range(len(json[\"tracks\"][\"items\"])):\n",
    "        feats = []\n",
    "        data = {\n",
    "            \"top\": i+1,\n",
    "            \"track_name\": track_info[i][\"track\"][\"name\"],\n",
    "            \"track_popularity\": track_info[i][\"track\"][\"popularity\"],\n",
    "            \"artist_name\": track_info[i][\"track\"][\"artists\"][0][\"name\"],\n",
    "            \"artist_genres\": \"\",\n",
    "            \"duration_ms\": track_info[i][\"track\"][\"duration_ms\"],\n",
    "            \"artist_popularity\": \"\",\n",
    "            \"feats\": \"\",\n",
    "            \"explicit\": track_info[i][\"track\"][\"explicit\"],\n",
    "            \"album\": track_info[i][\"track\"][\"album\"][\"name\"],\n",
    "            \"type\": track_info[i][\"track\"][\"album\"][\"album_type\"],\n",
    "            \"relase_date\": track_info[i][\"track\"][\"album\"][\"release_date\"],\n",
    "            \"track_id\": track_info[i][\"track\"][\"id\"],\n",
    "            \"artist_id\": track_info[i][\"track\"][\"artists\"][0][\"id\"],\n",
    "            \"list\": current_playlist_name\n",
    "            }\n",
    "\n",
    "        artist_info = get_artist(token, data[\"artist_id\"])\n",
    "        data[\"artist_popularity\"] = artist_info[\"popularity\"]\n",
    "\n",
    "        if len(artist_info[\"genres\"]) == 1:\n",
    "            data[\"artist_genres\"] = artist_info[\"genres\"][0]\n",
    "        elif len(artist_info[\"genres\"]) > 1:\n",
    "            generes = artist_info[\"genres\"]\n",
    "            data[\"artist_genres\"] = \"|\".join(generes)\n",
    "        else:\n",
    "            data[\"artist_genres\"] = np.nan\n",
    "\n",
    "        if len(track_info[i][\"track\"][\"artists\"]) > 1:\n",
    "            for j in range(len(track_info[i][\"track\"][\"artists\"])-1):\n",
    "                feats.append(track_info[i][\"track\"][\"artists\"][j+1][\"name\"])\n",
    "                data[\"feats\"] = \"|\".join(feats)\n",
    "        else:\n",
    "            data[\"feats\"] = np.nan\n",
    "        feats = []\n",
    "\n",
    "        playlist_data.append(data)\n",
    "\n",
    "        \n",
    "    # CONCAT\n",
    "    df_temp = pd.DataFrame(playlist_data)\n",
    "        \n",
    "    df_playlist = pd.concat([df_playlist, df_temp], ignore_index=True)"
   ]
  },
  {
   "cell_type": "code",
   "execution_count": 9,
   "metadata": {},
   "outputs": [
    {
     "name": "stdout",
     "output_type": "stream",
     "text": [
      "CSV exportado\n"
     ]
    }
   ],
   "source": [
    "df_playlist.to_csv(\"top_charts.csv\", index=False, encoding='utf-8')\n",
    "print(\"CSV exportado\")"
   ]
  }
 ],
 "metadata": {
  "kernelspec": {
   "display_name": "Python 3 (ipykernel)",
   "language": "python",
   "name": "python3"
  },
  "language_info": {
   "codemirror_mode": {
    "name": "ipython",
    "version": 3
   },
   "file_extension": ".py",
   "mimetype": "text/x-python",
   "name": "python",
   "nbconvert_exporter": "python",
   "pygments_lexer": "ipython3",
   "version": "3.11.7"
  }
 },
 "nbformat": 4,
 "nbformat_minor": 4
}
