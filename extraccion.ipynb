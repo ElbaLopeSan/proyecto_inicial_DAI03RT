{
 "cells": [
  {
   "cell_type": "code",
   "execution_count": null,
   "metadata": {},
   "outputs": [],
   "source": [
    "# EXTRACCION"
   ]
  },
  {
   "cell_type": "code",
   "execution_count": 1,
   "metadata": {},
   "outputs": [
    {
     "name": "stdout",
     "output_type": "stream",
     "text": [
      "Requirement already satisfied: spotipy in /home/elba/anaconda3/lib/python3.11/site-packages (2.25.1)\n",
      "Requirement already satisfied: python-dotenv in /home/elba/anaconda3/lib/python3.11/site-packages (0.21.0)\n",
      "Requirement already satisfied: redis>=3.5.3 in /home/elba/anaconda3/lib/python3.11/site-packages (from spotipy) (6.2.0)\n",
      "Requirement already satisfied: requests>=2.25.0 in /home/elba/anaconda3/lib/python3.11/site-packages (from spotipy) (2.31.0)\n",
      "Requirement already satisfied: urllib3>=1.26.0 in /home/elba/anaconda3/lib/python3.11/site-packages (from spotipy) (2.0.7)\n",
      "Requirement already satisfied: charset-normalizer<4,>=2 in /home/elba/anaconda3/lib/python3.11/site-packages (from requests>=2.25.0->spotipy) (2.0.4)\n",
      "Requirement already satisfied: idna<4,>=2.5 in /home/elba/anaconda3/lib/python3.11/site-packages (from requests>=2.25.0->spotipy) (3.4)\n",
      "Requirement already satisfied: certifi>=2017.4.17 in /home/elba/anaconda3/lib/python3.11/site-packages (from requests>=2.25.0->spotipy) (2025.6.15)\n"
     ]
    }
   ],
   "source": [
    "!pip install spotipy python-dotenv\n",
    "import base64\n",
    "from requests import post,get\n",
    "import json\n",
    "import numpy as np\n",
    "import pandas as pd"
   ]
  },
  {
   "cell_type": "code",
   "execution_count": 2,
   "metadata": {},
   "outputs": [],
   "source": [
    "CLIENT_ID=\n",
    "CLIENT_SECRET=\n",
    "def get_token():\n",
    "    auth_string = CLIENT_ID+\":\"+CLIENT_SECRET \n",
    "    auth_bytes = auth_string.encode(\"utf-8\")\n",
    "    auth_base64 = str(base64.b64encode(auth_bytes), \"utf-8\")\n",
    "\n",
    "    url = \"https://accounts.spotify.com/api/token\"\n",
    "\n",
    "    headers = {\n",
    "        \"Authorization\" : \"Basic \" + auth_base64,\n",
    "        \"Content-Type\": \"application/x-www-form-urlencoded\"\n",
    "    }\n",
    "\n",
    "    data = {\"grant_type\":\"client_credentials\"}\n",
    "    result = post(url,headers=headers,data=data)\n",
    "    json_result = json.loads(result.content)\n",
    "    token = json_result\n",
    "    return token[\"access_token\"]\n",
    "def get_auth_header(token):\n",
    "    return {\"Authorization\": \"Bearer \"+ token}"
   ]
  },
  {
   "cell_type": "code",
   "execution_count": 3,
   "metadata": {},
   "outputs": [],
   "source": [
    "def search_for_playlist(token,playlist_name):\n",
    "    url = \"https://api.spotify.com/v1/search\"\n",
    "    headers = get_auth_header(token)\n",
    "    query=f\"?q={playlist_name}&type=playlist&limit=1\"\n",
    "    query_url = url + query\n",
    "    result = get(query_url,headers=headers)\n",
    "    json_result = json.loads(result.content)\n",
    "    return  json_result\n",
    "\n",
    "def get_playlist(token, playlist_id):\n",
    "    url = f\"https://api.spotify.com/v1/playlists/{playlist_id}\"\n",
    "    headers = get_auth_header(token)\n",
    "    result = get(url, headers=headers)\n",
    "    json_result = json.loads(result.content)\n",
    "    return json_result\n",
    "\n",
    "def get_artist(token, artist_id):\n",
    "    url = f\"https://api.spotify.com/v1/artists/{artist_id}\"  # ← Esto está bien\n",
    "    headers = get_auth_header(token)\n",
    "    result = get(url, headers=headers)\n",
    "    json_result = json.loads(result.content)\n",
    "    return json_result\n",
    "\n",
    "\n",
    "def get_features(token,songs_id):\n",
    "    url=f\"https://api.spotify.com/v1/audio-features?ids={songs_id}\"\n",
    "    headers = get_auth_header(token)\n",
    "    result = get(url,headers=headers)\n",
    "    json_result = json.loads(result.content)\n",
    "    return json_result"
   ]
  },
  {
   "cell_type": "code",
   "execution_count": 4,
   "metadata": {},
   "outputs": [
    {
     "name": "stdout",
     "output_type": "stream",
     "text": [
      "Billboard Hot 100\n",
      "The official <a href=\"http://www.billboard.com/charts/hot-100\">Billboard Hot 100</a> features this week's most popular songs across all genres, ranked by radio airplay monitored by Nielsen BDS, download sales tracked by Nielsen SoundScan and streaming activity data provided by leading online music services. For more information go to <a href=\"http://Billboard.com\">Billboard.com</a>.\n",
      "6UeSakyzhiEt4NB3UAd6NQ\n"
     ]
    }
   ],
   "source": [
    "token = get_token()\n",
    "\n",
    "playlist_info=search_for_playlist(token,\"billboard hot 100\")\n",
    "\n",
    "playlist_name=playlist_info[\"playlists\"][\"items\"][0][\"name\"]\n",
    "playlist_description=playlist_info[\"playlists\"][\"items\"][0][\"description\"]\n",
    "playlist_id=playlist_info[\"playlists\"][\"items\"][0][\"id\"]\n",
    "\n",
    "print(playlist_name)\n",
    "print(playlist_description)\n",
    "print(playlist_id)\n",
    "\n",
    "playlist_json=get_playlist(token,playlist_id)"
   ]
  },
  {
   "cell_type": "code",
   "execution_count": 5,
   "metadata": {},
   "outputs": [
    {
     "name": "stdout",
     "output_type": "stream",
     "text": [
      "Billboard Hot 100\n",
      "The official <a href=\"http://www.billboard.com/charts/hot-100\">Billboard Hot 100</a> features this week's most popular songs across all genres, ranked by radio airplay monitored by Nielsen BDS, download sales tracked by Nielsen SoundScan and streaming activity data provided by leading online music services. For more information go to <a href=\"http://Billboard.com\">Billboard.com</a>.\n",
      "6UeSakyzhiEt4NB3UAd6NQ\n"
     ]
    }
   ],
   "source": [
    "token = get_token()\n",
    "\n",
    "playlist_info=search_for_playlist(token,\"billboard hot 100\")\n",
    "\n",
    "playlist_name=playlist_info[\"playlists\"][\"items\"][0][\"name\"]\n",
    "playlist_description=playlist_info[\"playlists\"][\"items\"][0][\"description\"]\n",
    "playlist_id=playlist_info[\"playlists\"][\"items\"][0][\"id\"]\n",
    "\n",
    "print(playlist_name)\n",
    "print(playlist_description)\n",
    "print(playlist_id)\n",
    "\n",
    "playlist_json=get_playlist(token,playlist_id)"
   ]
  },
  {
   "cell_type": "code",
   "execution_count": 6,
   "metadata": {},
   "outputs": [],
   "source": [
    "columns=[\"top\",\n",
    "        \"track_name\",\n",
    "        \"track_popularity\",\n",
    "        \"duration_ms\",\n",
    "        \"artist_name\",\n",
    "        \"artist_genres\",\n",
    "        \"artist_popularity\",\n",
    "        \"feats\",\n",
    "        \"explicit\",\n",
    "        \"album\",\n",
    "        \"type\",\n",
    "        \"relase_date\",\n",
    "        \"track_id\",\n",
    "        \"artist_id\"]\n",
    "df_playlist= pd.DataFrame(columns=columns)"
   ]
  },
  {
   "cell_type": "code",
   "execution_count": 7,
   "metadata": {},
   "outputs": [],
   "source": [
    "track_info=playlist_json[\"tracks\"][\"items\"]\n",
    "feats=[]\n",
    "\n",
    "for i in range(len(playlist_json[\"tracks\"][\"items\"])):\n",
    "      data={\"top\":i+1,\n",
    "          \"track_name\": track_info[i][\"track\"][\"name\"],\n",
    "          \"track_popularity\": track_info[i][\"track\"][\"popularity\"],\n",
    "\n",
    "          \"artist_name\":track_info[i][\"track\"][\"artists\"][0][\"name\"],\n",
    "          \"artist_genres\":\"\",\n",
    "          \"duration_ms\":track_info[i][\"track\"][\"duration_ms\"],\n",
    "          \"artist_popularity\":\"\",\n",
    "          \"feats\":\"\",\n",
    "          \"explicit\":track_info[i][\"track\"][\"explicit\"],\n",
    "          \"album\":track_info[i][\"track\"][\"album\"][\"name\"],\n",
    "          \"type\":track_info[i][\"track\"][\"album\"][\"album_type\"],\n",
    "          \"relase_date\":track_info[i][\"track\"][\"album\"][\"release_date\"],\n",
    "          \"track_id\":track_info[i][\"track\"][\"id\"],\n",
    "          \"artist_id\":track_info[i][\"track\"][\"artists\"][0][\"id\"]\n",
    "          }\n",
    "\n",
    "      artist_info=get_artist(token,data[\"artist_id\"])\n",
    "      data[\"artist_popularity\"]=artist_info[\"popularity\"]\n",
    "\n",
    "      if len(artist_info[\"genres\"])==1:\n",
    "\n",
    "        data[\"artist_genres\"]=artist_info[\"genres\"][0]\n",
    "\n",
    "      elif len(artist_info[\"genres\"])>1:\n",
    "        generes=artist_info[\"genres\"]\n",
    "        data[\"artist_genres\"]=\"|\".join(generes)\n",
    "\n",
    "      else:\n",
    "          data[\"artist_genres\"]=np.nan\n",
    "\n",
    "\n",
    "      if len(track_info[i][\"track\"][\"artists\"])>1:\n",
    "        for j in range(len(track_info[i][\"track\"][\"artists\"])-1):\n",
    "            feats.append(track_info[i][\"track\"][\"artists\"][j+1][\"name\"])\n",
    "\n",
    "        data[\"feats\"]=\"|\".join(feats)\n",
    "      else:\n",
    "        data[\"feats\"]=np.nan\n",
    "      feats=[]\n",
    "\n",
    "      df_playlist = pd.concat([df_playlist, pd.DataFrame([data])], ignore_index=True)"
   ]
  },
  {
   "cell_type": "code",
   "execution_count": 8,
   "metadata": {},
   "outputs": [
    {
     "name": "stdout",
     "output_type": "stream",
     "text": [
      "  top                      track_name track_popularity duration_ms  \\\n",
      "0   1                        Ordinary               96      186964   \n",
      "1   2  What I Want (feat. Tate McRae)               75      184517   \n",
      "2   3                    Just In Case               83      166206   \n",
      "3   4              A Bar Song (Tipsy)               88      171291   \n",
      "4   5                 I'm The Problem               79      177811   \n",
      "\n",
      "     artist_name artist_genres artist_popularity       feats explicit  \\\n",
      "0    Alex Warren           NaN                90         NaN    False   \n",
      "1  Morgan Wallen       country                95  Tate McRae    False   \n",
      "2  Morgan Wallen       country                95         NaN    False   \n",
      "3      Shaboozey           NaN                82         NaN     True   \n",
      "4  Morgan Wallen       country                95         NaN    False   \n",
      "\n",
      "                album    type relase_date                track_id  \\\n",
      "0            Ordinary  single  2025-02-07  6qqrTXSdwiJaq8SO0X2lSe   \n",
      "1     I’m The Problem   album  2025-05-16  48NthgcgfoRrWT8LtgW28A   \n",
      "2        Just In Case  single  2025-03-21  02Ya2Q08bBKFqUJvjmyRXK   \n",
      "3  A Bar Song (Tipsy)  single  2024-04-12  2FQrifJ1N335Ljm3TjTVVf   \n",
      "4     I'm The Problem  single  2025-01-31  3HlWVKwU0JqJXqJK9DWHnZ   \n",
      "\n",
      "                artist_id  \n",
      "0  0fTSzq9jAh4c36UVb4V7CB  \n",
      "1  4oUHIQIBe0LHzYfvXNW4QM  \n",
      "2  4oUHIQIBe0LHzYfvXNW4QM  \n",
      "3  3y2cIKLjiOlp1Np37WiUdH  \n",
      "4  4oUHIQIBe0LHzYfvXNW4QM  \n",
      "(100, 14)\n",
      "Archivo guardado: True\n"
     ]
    }
   ],
   "source": [
    "print(df_playlist.head())\n",
    "print(df_playlist.shape)\n",
    "\n",
    "# Exportar CSV con ruta completa\n",
    "df_playlist.to_csv(\"BillboardHot100.csv\", index=False)\n",
    "\n",
    "# Confirmar que se ha guardado\n",
    "import os\n",
    "print(\"Archivo guardado:\", os.path.isfile(\"BillboardHot100.csv\"))"
   ]
  },
  {
   "cell_type": "code",
   "execution_count": null,
   "metadata": {},
   "outputs": [],
   "source": []
  }
 ],
 "metadata": {
  "kernelspec": {
   "display_name": "Python 3 (ipykernel)",
   "language": "python",
   "name": "python3"
  },
  "language_info": {
   "codemirror_mode": {
    "name": "ipython",
    "version": 3
   },
   "file_extension": ".py",
   "mimetype": "text/x-python",
   "name": "python",
   "nbconvert_exporter": "python",
   "pygments_lexer": "ipython3",
   "version": "3.11.7"
  }
 },
 "nbformat": 4,
 "nbformat_minor": 4
}
