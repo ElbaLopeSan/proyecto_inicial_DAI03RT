{
 "cells": [
  {
   "cell_type": "code",
   "execution_count": 1,
   "id": "f4d42c38-03aa-4cf3-b594-69fdadc4f7c1",
   "metadata": {},
   "outputs": [],
   "source": [
    " # LOAD"
   ]
  },
  {
   "cell_type": "code",
   "execution_count": 2,
   "id": "6a07cd11-0647-4704-a7de-1ff786b3d259",
   "metadata": {},
   "outputs": [],
   "source": [
    "import pandas as pd"
   ]
  },
  {
   "cell_type": "code",
   "execution_count": 3,
   "id": "274d4b47-6ea0-4056-8786-f7f92d040820",
   "metadata": {},
   "outputs": [],
   "source": [
    "df = pd.read_csv(\"df_trans.csv\")\n",
    "df_exploded = pd.read_csv(\"genres_exploded.csv\")"
   ]
  },
  {
   "cell_type": "code",
   "execution_count": 4,
   "id": "8fcb9dc1-a0f1-4350-b1fc-ecc20d92b7c4",
   "metadata": {},
   "outputs": [
    {
     "name": "stdout",
     "output_type": "stream",
     "text": [
      "CSV exportado\n",
      "CSV exportado\n"
     ]
    }
   ],
   "source": [
    "df.to_csv(\"df_trans.csv\", index=False, encoding='utf-8')\n",
    "print(\"CSV exportado\")\n",
    "df_exploded.to_csv(\"genres_exploded.csv\", index=False, encoding='utf-8')\n",
    "print(\"CSV exportado\")"
   ]
  }
 ],
 "metadata": {
  "kernelspec": {
   "display_name": "Python 3 (ipykernel)",
   "language": "python",
   "name": "python3"
  },
  "language_info": {
   "codemirror_mode": {
    "name": "ipython",
    "version": 3
   },
   "file_extension": ".py",
   "mimetype": "text/x-python",
   "name": "python",
   "nbconvert_exporter": "python",
   "pygments_lexer": "ipython3",
   "version": "3.11.7"
  }
 },
 "nbformat": 4,
 "nbformat_minor": 5
}
