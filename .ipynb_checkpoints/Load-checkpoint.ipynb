{
 "cells": [
  {
   "cell_type": "code",
   "execution_count": null,
   "id": "f4d42c38-03aa-4cf3-b594-69fdadc4f7c1",
   "metadata": {},
   "outputs": [],
   "source": [
    " # LOAD"
   ]
  },
  {
   "cell_type": "code",
   "execution_count": null,
   "id": "6a0a980f-0020-4e5a-81f4-3b097a184f93",
   "metadata": {},
   "outputs": [],
   "source": [
    "import pandas as pd\n"
   ]
  },
  {
   "cell_type": "code",
   "execution_count": null,
   "id": "c3bb56a9-2636-4c4c-9c65-a74a3aaf34d7",
   "metadata": {},
   "outputs": [],
   "source": [
    "# Guardar el DataFrame en un archivo Excel\n",
    "df_playlist.to_excel(\"BillboardHot100.xlsx\", index=False)\n"
   ]
  },
  {
   "cell_type": "code",
   "execution_count": null,
   "id": "a5ca93e4-a15c-45eb-8364-b73a6c4987d0",
   "metadata": {},
   "outputs": [],
   "source": [
    "import os\n",
    "print(\"Archivo guardado:\", os.path.isfile(\"BillboardHot100.xlsx\"))\n"
   ]
  }
 ],
 "metadata": {
  "kernelspec": {
   "display_name": "Python 3 (ipykernel)",
   "language": "python",
   "name": "python3"
  },
  "language_info": {
   "codemirror_mode": {
    "name": "ipython",
    "version": 3
   },
   "file_extension": ".py",
   "mimetype": "text/x-python",
   "name": "python",
   "nbconvert_exporter": "python",
   "pygments_lexer": "ipython3",
   "version": "3.11.7"
  }
 },
 "nbformat": 4,
 "nbformat_minor": 5
}
